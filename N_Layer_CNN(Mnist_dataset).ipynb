{
  "nbformat": 4,
  "nbformat_minor": 0,
  "metadata": {
    "colab": {
      "name": "N_Layer_CNN(Mnist dataset)",
      "version": "0.3.2",
      "provenance": [],
      "include_colab_link": true
    },
    "kernelspec": {
      "name": "python3",
      "display_name": "Python 3"
    }
  },
  "cells": [
    {
      "cell_type": "markdown",
      "metadata": {
        "id": "view-in-github",
        "colab_type": "text"
      },
      "source": [
        "<a href=\"https://colab.research.google.com/github/Ubaid-Manzoor/N-Layer-Neural-Network-Using-TensorFlow-With-Mnist-Dataset/blob/master/N_Layer_CNN(Mnist_dataset).ipynb\" target=\"_parent\"><img src=\"https://colab.research.google.com/assets/colab-badge.svg\" alt=\"Open In Colab\"/></a>"
      ]
    },
    {
      "metadata": {
        "id": "JFKuJCG0ZlJ4",
        "colab_type": "code",
        "colab": {}
      },
      "cell_type": "code",
      "source": [
        "from tensorflow.python.framework import ops\n",
        "import numpy as np\n",
        "import tensorflow as tf\n",
        "import math\n",
        "import matplotlib.pyplot as plt\n",
        "\n",
        "np.random.seed(1)"
      ],
      "execution_count": 0,
      "outputs": []
    },
    {
      "metadata": {
        "id": "mdbx8W7XfQgM",
        "colab_type": "code",
        "colab": {}
      },
      "cell_type": "code",
      "source": [
        "mnist = tf.keras.datasets.mnist\n",
        "\n",
        "(X_train , y_train) , (X_test , y_test) = mnist.load_data()"
      ],
      "execution_count": 0,
      "outputs": []
    },
    {
      "metadata": {
        "id": "gjjaWE8VfdfF",
        "colab_type": "code",
        "colab": {}
      },
      "cell_type": "code",
      "source": [
        "y_train = tf.one_hot(y_train , len(np.unique(y_train)))\n",
        "y_test = tf.one_hot(y_test , len(np.unique(y_test)))"
      ],
      "execution_count": 0,
      "outputs": []
    },
    {
      "metadata": {
        "id": "hrVLjP_dfhbI",
        "colab_type": "code",
        "outputId": "44dc8f8d-cff3-4320-904d-925c9158e6c2",
        "colab": {
          "base_uri": "https://localhost:8080/",
          "height": 52
        }
      },
      "cell_type": "code",
      "source": [
        "print(X_train.shape)\n",
        "print(X_test.shape)"
      ],
      "execution_count": 41,
      "outputs": [
        {
          "output_type": "stream",
          "text": [
            "(60000, 28, 28)\n",
            "(10000, 28, 28)\n"
          ],
          "name": "stdout"
        }
      ]
    },
    {
      "metadata": {
        "id": "Y31sOtNrfirN",
        "colab_type": "code",
        "outputId": "44e93783-7454-4473-ea45-cda26f64d61b",
        "colab": {
          "base_uri": "https://localhost:8080/",
          "height": 52
        }
      },
      "cell_type": "code",
      "source": [
        "with tf.Session() as sess:\n",
        "  y_train = sess.run(y_train)\n",
        "  y_test = sess.run(y_test)\n",
        "print(y_train.shape)\n",
        "print(y_test.shape)"
      ],
      "execution_count": 42,
      "outputs": [
        {
          "output_type": "stream",
          "text": [
            "(60000, 10)\n",
            "(10000, 10)\n"
          ],
          "name": "stdout"
        }
      ]
    },
    {
      "metadata": {
        "id": "PsYxHVOZfk6n",
        "colab_type": "code",
        "colab": {}
      },
      "cell_type": "code",
      "source": [
        "def create_placeholder(n_H , n_W , n_C , n_y):\n",
        "  \n",
        "  X = tf.placeholder(shape=[None , n_H, n_W, n_C] , dtype=tf.float32 , name='X')\n",
        "  Y = tf.placeholder(shape=[None, n_y] , dtype=tf.float32 , name=\"Y\")\n",
        "  \n",
        "  return X,Y"
      ],
      "execution_count": 0,
      "outputs": []
    },
    {
      "metadata": {
        "id": "pDkcf_PjgIVV",
        "colab_type": "code",
        "outputId": "58fcbfb9-2a88-4993-d765-d87341b9aad0",
        "colab": {
          "base_uri": "https://localhost:8080/",
          "height": 52
        }
      },
      "cell_type": "code",
      "source": [
        "#Create a Parameters dict to Hold all Weights\n",
        "#The Weight_shape has to be create manually \n",
        "parameters_shape = {}\n",
        "Weight_shapes = [[4,4,3,5] , [3,3,5,10] , [2,2,10,15]]# length of Weight_Shape depends on number of layers\n",
        "for i,shape in enumerate(Weight_shapes):\n",
        "  l=i+1\n",
        "  parameters_shape[\"W\"+str(l)] = shape\n",
        "print(parameters_shape)\n",
        "\n",
        "#create dict for non learnable parameters Like stride and max_pool Window size\n",
        "non_learn_para = {}\n",
        "\n",
        "stride = [[1,4] , [1,3] , [1,2]] # [[stride of conv layer , stride for max pool layer],[],[]]\n",
        "window_size = [4,3,2] #[for first maxpool layer,for second,for third]\n",
        "\n",
        "for l in range(1,len(window_size)+1):\n",
        "  non_learn_para[\"Conv_s\"+str(l)] = stride[l-1][0]\n",
        "  non_learn_para[\"Maxpool_s\"+str(l)] = stride[l-1][1]\n",
        "  non_learn_para[\"WS\"+str(l)] = window_size[l-1]\n",
        "print(non_learn_para)"
      ],
      "execution_count": 44,
      "outputs": [
        {
          "output_type": "stream",
          "text": [
            "{'W1': [4, 4, 3, 5], 'W2': [3, 3, 5, 10], 'W3': [2, 2, 10, 15]}\n",
            "{'Conv_s1': 1, 'Maxpool_s1': 4, 'WS1': 4, 'Conv_s2': 1, 'Maxpool_s2': 3, 'WS2': 3, 'Conv_s3': 1, 'Maxpool_s3': 2, 'WS3': 2}\n"
          ],
          "name": "stdout"
        }
      ]
    },
    {
      "metadata": {
        "id": "zlnQ8JBFmQN-",
        "colab_type": "code",
        "colab": {}
      },
      "cell_type": "code",
      "source": [
        "def initialize_parameters(shapes):\n",
        "  tf.set_random_seed(1)\n",
        "  L = len(shapes)+1\n",
        "  parameters = {}\n",
        "  for l in range(1,L):\n",
        "    parameters[\"W\" + str(l)] = tf.get_variable(\"W\"+str(l) ,shapes[\"W\"+str(l)],initializer=tf.contrib.layers.xavier_initializer(seed = 0))\n",
        "    \n",
        "  return parameters"
      ],
      "execution_count": 0,
      "outputs": []
    },
    {
      "metadata": {
        "id": "rKlZtHWunpbS",
        "colab_type": "code",
        "outputId": "22bb62b9-edb6-4164-a868-31b1d4a14689",
        "colab": {
          "base_uri": "https://localhost:8080/",
          "height": 69
        }
      },
      "cell_type": "code",
      "source": [
        "tf.reset_default_graph()\n",
        "with tf.Session() as sess_test:\n",
        "  parameters = initialize_parameters(parameters_shape)\n",
        "  init = tf.global_variables_initializer()\n",
        "  sess_test.run(init)\n",
        "  print(\"W1 = \" + str(parameters[\"W1\"].eval().shape))\n",
        "  print(\"W2 = \" + str(parameters[\"W2\"].eval().shape))\n",
        "  print(\"W2 = \" + str(parameters[\"W3\"].eval().shape))"
      ],
      "execution_count": 46,
      "outputs": [
        {
          "output_type": "stream",
          "text": [
            "W1 = (4, 4, 3, 5)\n",
            "W2 = (3, 3, 5, 10)\n",
            "W2 = (2, 2, 10, 15)\n"
          ],
          "name": "stdout"
        }
      ]
    },
    {
      "metadata": {
        "id": "xC9AMYS6L7B4",
        "colab_type": "code",
        "colab": {}
      },
      "cell_type": "code",
      "source": [
        "#dimension of Fully Connected Layer\n",
        "FC_layer_dims = [10]  #Now i just used 1 FC layer there can be many"
      ],
      "execution_count": 0,
      "outputs": []
    },
    {
      "metadata": {
        "id": "_C9Mzdcc3DKb",
        "colab_type": "code",
        "colab": {}
      },
      "cell_type": "code",
      "source": [
        "def first_half(X , parameters , non_learn_para):\n",
        "  NLP = non_learn_para\n",
        "  L = len(parameters)\n",
        "  for l in range(1,L+1):\n",
        "    P = X\n",
        "    #Conv layer\n",
        "    s = NLP[\"Conv_s\"+str(l)] \n",
        "    Z = tf.nn.conv2d(P , parameters[\"W\"+str(l)], strides=[1,s,s,1] , padding='SAME')\n",
        "    #Relu\n",
        "    A = tf.nn.relu(Z)\n",
        "    #MaxPool\n",
        "    f = NLP[\"WS\"+str(l)]\n",
        "    s = NLP[\"Maxpool_s\"+str(l)]\n",
        "    P = tf.nn.max_pool(A , ksize=[1,f,f,1] , strides= [1,s,s,1] , paddind='SAME')\n",
        "    print(P)\n",
        "  return P"
      ],
      "execution_count": 0,
      "outputs": []
    },
    {
      "metadata": {
        "id": "9Dw-LS2mIoxX",
        "colab_type": "code",
        "colab": {}
      },
      "cell_type": "code",
      "source": [
        "def second_half(P , layer_dims):\n",
        "  L = len(layer_dims)\n",
        "  for l in range(1,L+1):\n",
        "    Z = tf.contrib.layers.fully_connected(P , layer_dims[l] , activation_fn_None)\n",
        "  \n",
        "  return Z"
      ],
      "execution_count": 0,
      "outputs": []
    },
    {
      "metadata": {
        "id": "WYUUmwJtIrh-",
        "colab_type": "code",
        "colab": {}
      },
      "cell_type": "code",
      "source": [
        "def forward_propagation(X , parameters,non_learn_para):\n",
        "  \n",
        "  #run_first_half\n",
        "  P = first_half(X,parameters , non_learn_para)\n",
        "  #Flatten\n",
        "  P_flatten = tf.conterb.layers.flatten(P)\n",
        "  #run_second_half\n",
        "  Z = second_half(P , FC_layer_dims)\n",
        "  \n",
        "  return Z"
      ],
      "execution_count": 0,
      "outputs": []
    },
    {
      "metadata": {
        "id": "gsvEq5NnRYp6",
        "colab_type": "code",
        "colab": {}
      },
      "cell_type": "code",
      "source": [
        "def compute_cost(Z , Y):\n",
        "  \n",
        "  cost = tf.reduce_mean(tf.nn.softmax_cross_entropy_with_logits(logits=Z , labels=Y))\n",
        "  \n",
        "  return cost"
      ],
      "execution_count": 0,
      "outputs": []
    },
    {
      "metadata": {
        "id": "b4HT0OwQRz2c",
        "colab_type": "code",
        "colab": {}
      },
      "cell_type": "code",
      "source": [
        "def model(X_train , Y_train , X_test , Y_test , learning_rate=0.001 \n",
        "          , num_epochs=50 , minibatch_size=64 , print_cost = True):\n",
        "  \n",
        "  tf.reset_default_graph()\n",
        "  tf.set_random_seed(1)\n",
        "  \n",
        "  m , n_H0 , n_W0 , n_C0 = X_train.shape\n",
        "  n_y = Y_train.shape[1]\n",
        "  \n",
        "  "
      ],
      "execution_count": 0,
      "outputs": []
    }
  ]
}