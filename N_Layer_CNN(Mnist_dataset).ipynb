{
  "nbformat": 4,
  "nbformat_minor": 0,
  "metadata": {
    "colab": {
      "name": "N_Layer_CNN(Mnist dataset)",
      "version": "0.3.2",
      "provenance": [],
      "collapsed_sections": [],
      "include_colab_link": true
    },
    "kernelspec": {
      "name": "python3",
      "display_name": "Python 3"
    },
    "accelerator": "GPU"
  },
  "cells": [
    {
      "cell_type": "markdown",
      "metadata": {
        "id": "view-in-github",
        "colab_type": "text"
      },
      "source": [
        "<a href=\"https://colab.research.google.com/github/Ubaid-Manzoor/N-Layer-Neural-Network-Using-TensorFlow-With-Mnist-Dataset/blob/master/N_Layer_CNN(Mnist_dataset).ipynb\" target=\"_parent\"><img src=\"https://colab.research.google.com/assets/colab-badge.svg\" alt=\"Open In Colab\"/></a>"
      ]
    },
    {
      "metadata": {
        "id": "JFKuJCG0ZlJ4",
        "colab_type": "code",
        "colab": {}
      },
      "cell_type": "code",
      "source": [
        "from tensorflow.python.framework import ops\n",
        "import numpy as np\n",
        "import tensorflow as tf\n",
        "import math\n",
        "import matplotlib.pyplot as plt\n",
        "\n",
        "np.random.seed(1)"
      ],
      "execution_count": 0,
      "outputs": []
    },
    {
      "metadata": {
        "id": "mdbx8W7XfQgM",
        "colab_type": "code",
        "colab": {
          "base_uri": "https://localhost:8080/",
          "height": 52
        },
        "outputId": "988fb5f4-bef3-450b-f4b2-11e40ffdc513"
      },
      "cell_type": "code",
      "source": [
        "mnist = tf.keras.datasets.mnist\n",
        "\n",
        "(X_train , y_train) , (X_test , y_test) = mnist.load_data()"
      ],
      "execution_count": 2,
      "outputs": [
        {
          "output_type": "stream",
          "text": [
            "Downloading data from https://storage.googleapis.com/tensorflow/tf-keras-datasets/mnist.npz\n",
            "11493376/11490434 [==============================] - 0s 0us/step\n"
          ],
          "name": "stdout"
        }
      ]
    },
    {
      "metadata": {
        "id": "GjBrvJL9fz6T",
        "colab_type": "code",
        "colab": {}
      },
      "cell_type": "code",
      "source": [
        "gray_scale = len(X_train.shape) == 3"
      ],
      "execution_count": 0,
      "outputs": []
    },
    {
      "metadata": {
        "id": "gjjaWE8VfdfF",
        "colab_type": "code",
        "colab": {}
      },
      "cell_type": "code",
      "source": [
        "y_train = tf.one_hot(y_train , len(np.unique(y_train)))\n",
        "y_test = tf.one_hot(y_test , len(np.unique(y_test)))"
      ],
      "execution_count": 0,
      "outputs": []
    },
    {
      "metadata": {
        "id": "hrVLjP_dfhbI",
        "colab_type": "code",
        "outputId": "77c7c296-5ae6-432d-c048-f6da40b382e5",
        "colab": {
          "base_uri": "https://localhost:8080/",
          "height": 52
        }
      },
      "cell_type": "code",
      "source": [
        "if gray_scale:\n",
        "  X_train = X_train.reshape(X_train.shape[0] , X_train.shape[1] , X_train.shape[2] , 1)\n",
        "  X_test = X_test.reshape(X_test.shape[0] , X_test.shape[1] , X_test.shape[2] , 1)\n",
        "print(X_train.shape)\n",
        "print(X_test.shape)"
      ],
      "execution_count": 5,
      "outputs": [
        {
          "output_type": "stream",
          "text": [
            "(60000, 28, 28, 1)\n",
            "(10000, 28, 28, 1)\n"
          ],
          "name": "stdout"
        }
      ]
    },
    {
      "metadata": {
        "id": "Y31sOtNrfirN",
        "colab_type": "code",
        "outputId": "1dc5660c-d8aa-46d1-cc48-930eaff353cd",
        "colab": {
          "base_uri": "https://localhost:8080/",
          "height": 52
        }
      },
      "cell_type": "code",
      "source": [
        "with tf.Session() as sess:\n",
        "  y_train = sess.run(y_train)\n",
        "  y_test = sess.run(y_test)\n",
        "print(y_train.shape)\n",
        "print(y_test.shape)"
      ],
      "execution_count": 6,
      "outputs": [
        {
          "output_type": "stream",
          "text": [
            "(60000, 10)\n",
            "(10000, 10)\n"
          ],
          "name": "stdout"
        }
      ]
    },
    {
      "metadata": {
        "id": "PsYxHVOZfk6n",
        "colab_type": "code",
        "colab": {}
      },
      "cell_type": "code",
      "source": [
        "def create_placeholders(n_H , n_W , n_C , n_y):\n",
        "  \n",
        "  X = tf.placeholder(shape=[None , n_H, n_W, n_C] , dtype=tf.float32 , name='X')\n",
        "  Y = tf.placeholder(shape=[None, n_y] , dtype=tf.float32 , name=\"Y\")\n",
        "  \n",
        "  return X,Y"
      ],
      "execution_count": 0,
      "outputs": []
    },
    {
      "metadata": {
        "id": "zlnQ8JBFmQN-",
        "colab_type": "code",
        "colab": {}
      },
      "cell_type": "code",
      "source": [
        "def initialize_learning_parameters(shapes):\n",
        "  tf.set_random_seed(1)\n",
        "  L = len(shapes)+1\n",
        "  parameters = {}\n",
        "  for l in range(1,L):\n",
        "    parameters[\"W\" + str(l)] = tf.get_variable(\"W\"+str(l) ,shapes[\"W\"+str(l)],initializer=tf.contrib.layers.xavier_initializer(seed = 0))\n",
        "    \n",
        "  return parameters"
      ],
      "execution_count": 0,
      "outputs": []
    },
    {
      "metadata": {
        "id": "7Ta8eVPVcC05",
        "colab_type": "code",
        "colab": {}
      },
      "cell_type": "code",
      "source": [
        "def initialize_non_learning_parameters(stride,window_size):\n",
        "  #create dict for non learnable parameters Like stride and max_pool Window size\n",
        "  non_learn_para = {}\n",
        "\n",
        "  for l in range(1,len(window_size)+1):\n",
        "    non_learn_para[\"Conv_s\"+str(l)] = stride[l-1][0]\n",
        "    non_learn_para[\"Maxpool_s\"+str(l)] = stride[l-1][1]\n",
        "    non_learn_para[\"WS\"+str(l)] = window_size[l-1]\n",
        "  \n",
        "  return non_learn_para"
      ],
      "execution_count": 0,
      "outputs": []
    },
    {
      "metadata": {
        "id": "xC9AMYS6L7B4",
        "colab_type": "code",
        "colab": {}
      },
      "cell_type": "code",
      "source": [
        "#dimension of Fully Connected Layer\n",
        "FC_layer_dims = [10]  #Now i just used 1 FC layer there can be many"
      ],
      "execution_count": 0,
      "outputs": []
    },
    {
      "metadata": {
        "id": "_C9Mzdcc3DKb",
        "colab_type": "code",
        "colab": {}
      },
      "cell_type": "code",
      "source": [
        "def first_half(X , parameters , non_learn_para):\n",
        "  NLP = non_learn_para\n",
        "  L = len(parameters)\n",
        "  P = X\n",
        "  for l in range(1,L+1):\n",
        "\n",
        "    #Conv layer\n",
        "    s = NLP[\"Conv_s\"+str(l)] \n",
        "    Z = tf.nn.conv2d(P , parameters[\"W\"+str(l)], strides=[1,s,s,1] , padding='SAME')\n",
        "    #Relu\n",
        "    A = tf.nn.relu(Z)\n",
        "    #MaxPool\n",
        "    f = NLP[\"WS\"+str(l)]\n",
        "    s = NLP[\"Maxpool_s\"+str(l)]\n",
        "    P = tf.nn.max_pool(A , ksize=[1,f,f,1] , strides= [1,s,s,1] , padding='SAME')\n",
        "\n",
        "  return P"
      ],
      "execution_count": 0,
      "outputs": []
    },
    {
      "metadata": {
        "id": "9Dw-LS2mIoxX",
        "colab_type": "code",
        "colab": {}
      },
      "cell_type": "code",
      "source": [
        "def second_half(P , layer_dims):\n",
        "  L = len(layer_dims)\n",
        "  for l in range(1,L+1):\n",
        "    Z = tf.contrib.layers.fully_connected(P , layer_dims[l-1] , activation_fn=None)\n",
        "  \n",
        "  return Z"
      ],
      "execution_count": 0,
      "outputs": []
    },
    {
      "metadata": {
        "id": "WYUUmwJtIrh-",
        "colab_type": "code",
        "colab": {}
      },
      "cell_type": "code",
      "source": [
        "def forward_propagation(X , parameters,non_learn_para , FC_layer_dims):\n",
        "  \n",
        "  #run_first_half\n",
        "  P = first_half(X,parameters , non_learn_para)\n",
        "\n",
        "  #Flatten\n",
        "  P_flatten = tf.contrib.layers.flatten(P)\n",
        "\n",
        "  #run_second_half\n",
        "  Z = second_half(P_flatten , FC_layer_dims)\n",
        "  return Z"
      ],
      "execution_count": 0,
      "outputs": []
    },
    {
      "metadata": {
        "id": "gsvEq5NnRYp6",
        "colab_type": "code",
        "colab": {}
      },
      "cell_type": "code",
      "source": [
        "def compute_cost(Z , Y):\n",
        "\n",
        "  cost = tf.reduce_mean(tf.nn.softmax_cross_entropy_with_logits(logits=Z , labels=Y))\n",
        "  \n",
        "  return cost"
      ],
      "execution_count": 0,
      "outputs": []
    },
    {
      "metadata": {
        "id": "jr6mRnd8ZdAv",
        "colab_type": "code",
        "colab": {}
      },
      "cell_type": "code",
      "source": [
        "def random_mini_batches(X, Y, mini_batch_size = 64, seed = 0):\n",
        "    \"\"\"\n",
        "    Creates a list of random minibatches from (X, Y)\n",
        "    \n",
        "    Returns:\n",
        "    mini_batches -- list of synchronous (mini_batch_X, mini_batch_Y)\n",
        "    \"\"\"\n",
        "    \n",
        "    m = X.shape[0]                  # number of training examples\n",
        "    mini_batches = []\n",
        "    np.random.seed(seed)\n",
        "    \n",
        "    # Step 1: Shuffle (X, Y)\n",
        "    permutation = list(np.random.permutation(m))\n",
        "    shuffled_X = X[permutation,:,:,:]\n",
        "    shuffled_Y = Y[permutation,:]\n",
        "\n",
        "    # Step 2: Partition (shuffled_X, shuffled_Y). Minus the end case.\n",
        "    num_complete_minibatches = math.floor(m/mini_batch_size) # number of mini batches of size mini_batch_size in your partitionning\n",
        "    for k in range(0, num_complete_minibatches):\n",
        "        mini_batch_X = shuffled_X[k * mini_batch_size : k * mini_batch_size + mini_batch_size,:,:,:]\n",
        "        mini_batch_Y = shuffled_Y[k * mini_batch_size : k * mini_batch_size + mini_batch_size,:]\n",
        "        mini_batch = (mini_batch_X, mini_batch_Y)\n",
        "        mini_batches.append(mini_batch)\n",
        "    \n",
        "    # Handling the end case (last mini-batch < mini_batch_size)\n",
        "    if m % mini_batch_size != 0:\n",
        "        mini_batch_X = shuffled_X[num_complete_minibatches * mini_batch_size : m,:,:,:]\n",
        "        mini_batch_Y = shuffled_Y[num_complete_minibatches * mini_batch_size : m,:]\n",
        "        mini_batch = (mini_batch_X, mini_batch_Y)\n",
        "        mini_batches.append(mini_batch)\n",
        "    \n",
        "    return mini_batches"
      ],
      "execution_count": 0,
      "outputs": []
    },
    {
      "metadata": {
        "id": "dxEM_liAcceH",
        "colab_type": "code",
        "colab": {}
      },
      "cell_type": "code",
      "source": [
        "  #Create a Parameters dict to Hold all Weights\n",
        "  #The Weight_shape has to be create manually \n",
        "  parameters_shape = {}\n",
        "  if gray_scale:\n",
        "    Weight_shapes = [[4,4,1,5] , [3,3,5,10] , [2,2,10,15]]# length of Weight_Shape depends on number of layers\n",
        "  else:\n",
        "    Weight_shapes = [[4,4,3,5] , [3,3,5,10] , [2,2,10,15]]# length of Weight_Shape depends on number of layers\n",
        "  for i,shape in enumerate(Weight_shapes):\n",
        "    l=i+1\n",
        "    parameters_shape[\"W\"+str(l)] = shape\n",
        "  \n",
        "  #define non learning parameters \n",
        "  stride = [[1,3] , [1,2] , [1,2]] # [[stride of conv layer , stride for max pool layer],[],[]]\n",
        "  window_size = [3,2,2] #[for first maxpool layer,for second,for third]"
      ],
      "execution_count": 0,
      "outputs": []
    },
    {
      "metadata": {
        "id": "0Q75lbJbnuk5",
        "colab_type": "code",
        "colab": {}
      },
      "cell_type": "code",
      "source": [
        "# tf.reset_default_graph()\n",
        "# with tf.Session() as sess_test:\n",
        "#   parameters = initialize_parameters(parameters_shape)\n",
        "#   init = tf.global_variables_initializer()\n",
        "#   sess_test.run(init)\n",
        "#   print(\"W1 = \" + str(parameters[\"W1\"].eval().shape))\n",
        "#   print(\"W2 = \" + str(parameters[\"W2\"].eval().shape))\n",
        "#   print(\"W2 = \" + str(parameters[\"W3\"].eval().shape))"
      ],
      "execution_count": 0,
      "outputs": []
    },
    {
      "metadata": {
        "id": "b4HT0OwQRz2c",
        "colab_type": "code",
        "colab": {}
      },
      "cell_type": "code",
      "source": [
        "def model(X_train , Y_train , X_test , Y_test ,FC_layer_dims,parameters_shape, learning_rate=0.001 \n",
        "          , num_epochs=50 , minibatch_size=64 , print_cost = True):\n",
        "  \n",
        "  tf.reset_default_graph()\n",
        "  tf.set_random_seed(1)\n",
        "  \n",
        "  m , n_H0 , n_W0 , n_C0 = X_train.shape\n",
        "  n_y = Y_train.shape[1]\n",
        "  \n",
        "    #create list to store the cost at each epochs\n",
        "  costs = []\n",
        "  #create placeholders\n",
        "  X ,Y = create_placeholders(n_H0, n_W0, n_C0, n_y)\n",
        "  \n",
        "  #initialize all weights\n",
        "  parameters = initialize_learning_parameters(parameters_shape)\n",
        "  \n",
        "  #\n",
        "  non_learn_para = initialize_non_learning_parameters(stride, window_size)\n",
        "\n",
        "  #Forward propogate to calculate Z of layer L in first half\n",
        "  Z = forward_propagation(X , parameters,non_learn_para , FC_layer_dims)\n",
        "  \n",
        "  #calculate Cost using ZL and Y\n",
        "  cost = compute_cost(Z , Y)\n",
        "  \n",
        "  #Minimize the cost using Adam optimizer\n",
        "  optimizer = tf.train.AdamOptimizer(learning_rate = learning_rate).minimize(cost)\n",
        "  \n",
        "  # initialize all the global variable here (W and b are global varibles)\n",
        "  init = tf.global_variables_initializer()\n",
        "  seed = 0\n",
        "  with tf.Session() as sess:\n",
        "    sess.run(init)\n",
        "    \n",
        "    costs = []\n",
        "    \n",
        "    for epoch in range(num_epochs):\n",
        "      \n",
        "      epoch_cost = 0\n",
        "      seed = seed+1\n",
        "      \n",
        "      minibatches = random_mini_batches(X_train , Y_train , minibatch_size , seed)\n",
        "      \n",
        "      for minibatch in minibatches:\n",
        "        mini_X , mini_Y = minibatch\n",
        "\n",
        "        _ , temp_cost = sess.run([optimizer , cost] , feed_dict = {X:mini_X , Y:mini_Y})\n",
        "        \n",
        "        epoch_cost += temp_cost\n",
        "      \n",
        "      if print_cost==True:\n",
        "        print (\"Cost after epoch %i: %f\" % (epoch+1, epoch_cost))\n",
        "      costs.append(epoch_cost)\n",
        "    \n",
        "    plt.plot(range(1,num_epochs+1) , costs)\n",
        "    plt.ylabel('cost')\n",
        "    plt.xlabel('iterations')\n",
        "    plt.show()\n",
        "    \n",
        "    # Calculate the correct predictions\n",
        "    correct_prediction = tf.equal(tf.argmax(Z,1), tf.argmax(Y,1))\n",
        "\n",
        "    # Calculate accuracy on the test set\n",
        "    accuracy = tf.reduce_mean(tf.cast(correct_prediction, \"float\"))\n",
        "\n",
        "    print (\"Train Accuracy:\", accuracy.eval({X: X_train, Y: Y_train}))\n",
        "    print (\"Test Accuracy:\", accuracy.eval({X: X_test, Y: Y_test}))\n",
        "    \n",
        "    return parameters"
      ],
      "execution_count": 0,
      "outputs": []
    },
    {
      "metadata": {
        "id": "EGhUtaovbG38",
        "colab_type": "code",
        "colab": {
          "base_uri": "https://localhost:8080/",
          "height": 1264
        },
        "outputId": "19bacc3e-8577-45de-9785-6a44645f4087"
      },
      "cell_type": "code",
      "source": [
        "parameters = model(X_train , y_train , X_test , y_test,FC_layer_dims,parameters_shape)"
      ],
      "execution_count": 21,
      "outputs": [
        {
          "output_type": "stream",
          "text": [
            "Cost after epoch 1: 1804.515045\n",
            "Cost after epoch 2: 284.745989\n",
            "Cost after epoch 3: 184.000199\n",
            "Cost after epoch 4: 139.843910\n",
            "Cost after epoch 5: 114.923939\n",
            "Cost after epoch 6: 99.624962\n",
            "Cost after epoch 7: 87.319819\n",
            "Cost after epoch 8: 81.811064\n",
            "Cost after epoch 9: 76.017104\n",
            "Cost after epoch 10: 70.878083\n",
            "Cost after epoch 11: 68.014400\n",
            "Cost after epoch 12: 65.657401\n",
            "Cost after epoch 13: 61.237070\n",
            "Cost after epoch 14: 59.271746\n",
            "Cost after epoch 15: 55.499316\n",
            "Cost after epoch 16: 54.846376\n",
            "Cost after epoch 17: 55.733160\n",
            "Cost after epoch 18: 52.821909\n",
            "Cost after epoch 19: 51.094493\n",
            "Cost after epoch 20: 50.569689\n",
            "Cost after epoch 21: 50.398411\n",
            "Cost after epoch 22: 50.347240\n",
            "Cost after epoch 23: 48.145214\n",
            "Cost after epoch 24: 47.569746\n",
            "Cost after epoch 25: 45.167246\n",
            "Cost after epoch 26: 46.735408\n",
            "Cost after epoch 27: 45.509188\n",
            "Cost after epoch 28: 43.946245\n",
            "Cost after epoch 29: 44.756638\n",
            "Cost after epoch 30: 43.884908\n",
            "Cost after epoch 31: 43.468189\n",
            "Cost after epoch 32: 44.052760\n",
            "Cost after epoch 33: 43.430414\n",
            "Cost after epoch 34: 40.877697\n",
            "Cost after epoch 35: 41.017769\n",
            "Cost after epoch 36: 42.645503\n",
            "Cost after epoch 37: 41.480938\n",
            "Cost after epoch 38: 39.406484\n",
            "Cost after epoch 39: 39.443709\n",
            "Cost after epoch 40: 38.583919\n",
            "Cost after epoch 41: 42.126204\n",
            "Cost after epoch 42: 38.331368\n",
            "Cost after epoch 43: 37.794177\n",
            "Cost after epoch 44: 41.299361\n",
            "Cost after epoch 45: 40.160492\n",
            "Cost after epoch 46: 39.614152\n",
            "Cost after epoch 47: 38.753794\n",
            "Cost after epoch 48: 38.254775\n",
            "Cost after epoch 49: 39.124711\n",
            "Cost after epoch 50: 38.364773\n"
          ],
          "name": "stdout"
        },
        {
          "output_type": "display_data",
          "data": {
            "image/png": "[encoded data removed]",
            "text/plain": [
              "<Figure size 576x396 with 1 Axes>"
            ]
          },
          "metadata": {
            "tags": []
          }
        },
        {
          "output_type": "stream",
          "text": [
            "Train Accuracy: 0.9885167\n",
            "Test Accuracy: 0.9792\n"
          ],
          "name": "stdout"
        }
      ]
    },
    {
      "metadata": {
        "id": "L8QJnKAq4sUi",
        "colab_type": "code",
        "colab": {}
      },
      "cell_type": "code",
      "source": [
        ""
      ],
      "execution_count": 0,
      "outputs": []
    }
  ]
}