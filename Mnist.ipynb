{
  "nbformat": 4,
  "nbformat_minor": 0,
  "metadata": {
    "colab": {
      "name": "Mnist.ipynb",
      "version": "0.3.2",
      "provenance": [],
      "include_colab_link": true
    },
    "kernelspec": {
      "name": "python2",
      "display_name": "Python 2"
    },
    "accelerator": "TPU"
  },
  "cells": [
    {
      "cell_type": "markdown",
      "metadata": {
        "id": "view-in-github",
        "colab_type": "text"
      },
      "source": [
        "<a href=\"https://colab.research.google.com/github/Ubaid-Manzoor/HandWritten-Digit-Recognization/blob/master/Mnist.ipynb\" target=\"_parent\"><img src=\"https://colab.research.google.com/assets/colab-badge.svg\" alt=\"Open In Colab\"/></a>"
      ]
    },
    {
      "metadata": {
        "id": "05H0dBDLI23D",
        "colab_type": "text"
      },
      "cell_type": "markdown",
      "source": [
        ""
      ]
    },
    {
      "metadata": {
        "id": "4MEH0beKMNu8",
        "colab_type": "code",
        "colab": {}
      },
      "cell_type": "code",
      "source": [
        "import numpy as np\n",
        "import tensorflow as tf\n",
        "\n",
        "np.random.seed(1)"
      ],
      "execution_count": 0,
      "outputs": []
    },
    {
      "metadata": {
        "id": "gPgdFUAKI32O",
        "colab_type": "code",
        "colab": {}
      },
      "cell_type": "code",
      "source": [
        "def create_placeholders(n_x , x_y):\n",
        "  \"\"\"\n",
        "  n_x -- num_px * num_px * 3(if RBG)\n",
        "  n_y -- number of classes in This case (10 classes)\n",
        "  \"\"\"\n",
        "  X = tf.placeholder(shape=[n_x,None] , dtype=tf.float32 , name=\"X\")\n",
        "  Y = tf.placeholder(shape=[n_y,None] , dtype=tf.float32 , name=\"Y\")\n",
        "  \n",
        "  return X,Y"
      ],
      "execution_count": 0,
      "outputs": []
    },
    {
      "metadata": {
        "id": "MmfEP_FYMEzR",
        "colab_type": "code",
        "colab": {}
      },
      "cell_type": "code",
      "source": [
        "def initialize_parameters_deep(layer_dims):\n",
        "  \"\"\"\n",
        "  layer_dims -- python list containing the dimension of each layer and is create manually as we are going to decide size of a layer \\\n",
        "                like [12222 , 20 , 7 , 4 , 1] 4layer model\n",
        "  \n",
        "  return:\n",
        "  parameters -- python dictionary containing your parameters \"W1\", \"b1\", ..., \"WL\", \"bL\":\n",
        "                    Wl -- weight matrix of shape (layer_dims[l], layer_dims[l-1])\n",
        "                    bl -- bias vector of shape (layer_dims[l], 1)\n",
        "  \"\"\"\n",
        "  \n",
        "  np.random.seed(1)\n",
        "  parameters = {}\n",
        "  L = len(layer_dims) # number of layer in the network\n",
        "  \n",
        "  for l in range(1 , L):\n",
        "    parameters['W' + str(l)] = tf.get_variable(\"W\" + str(l) , [layer_dims[l] , layer_dims[l-1]] , initializer = tf.contrib.layers.xavier_initializer(seed=1))\n",
        "    parameters['b' + str(l)] = tf.get_variable(\"b\" + str(l) , [layer_dims[l],1] , tf.zeros_initializer())\n",
        "    \n",
        "  return parameters"
      ],
      "execution_count": 0,
      "outputs": []
    },
    {
      "metadata": {
        "id": "_hSBDEAdS_Hk",
        "colab_type": "code",
        "colab": {}
      },
      "cell_type": "code",
      "source": [
        "def linear_foward(A , W , b):\n",
        "  Z = tf.add(tf.matmul(W,A),b)\n",
        "  \n",
        "  return Z"
      ],
      "execution_count": 0,
      "outputs": []
    },
    {
      "metadata": {
        "id": "TxGAttQaVd8T",
        "colab_type": "code",
        "colab": {}
      },
      "cell_type": "code",
      "source": [
        "def linear_activation_forward(A_prev , W , b):\n",
        "  Z = linear_forward(A_prev , W , b)\n",
        "  A = tf.nn.relu(Z)\n",
        "  \n",
        "  return A"
      ],
      "execution_count": 0,
      "outputs": []
    },
    {
      "metadata": {
        "id": "K0S32dVjXSQb",
        "colab_type": "code",
        "colab": {}
      },
      "cell_type": "code",
      "source": [
        "def L_model_forward(X , parameters):\n",
        "  A = X\n",
        "  L = len(parameters) / 2\n",
        "  \n",
        "  for l in range(1,L):\n",
        "    A_prev = A\n",
        "    A = linear_activation_forward(A_prev, parameters['W'+str(l)], parameters['b' + str(l)])\n",
        "  ZL = A\n",
        "  \n",
        "  return ZL"
      ],
      "execution_count": 0,
      "outputs": []
    },
    {
      "metadata": {
        "id": "TYTCuz-1YGR_",
        "colab_type": "code",
        "colab": {}
      },
      "cell_type": "code",
      "source": [
        "def compute_cost(ZL , Y):\n",
        "  logits = tf.transpose(ZL) # requirement for the funtion  \n",
        "  labels = tf.transpose(Y)  #  ..........................\n",
        "  \n",
        "  cost = tf.reduce_mean(tf.nn.softmax_cross_entropy_with_logits(logits = logits , labels = labels))\n",
        "  \n",
        "  return cost"
      ],
      "execution_count": 0,
      "outputs": []
    },
    {
      "metadata": {
        "id": "pm1D2vZUYHkL",
        "colab_type": "code",
        "colab": {}
      },
      "cell_type": "code",
      "source": [
        ""
      ],
      "execution_count": 0,
      "outputs": []
    }
  ]
}